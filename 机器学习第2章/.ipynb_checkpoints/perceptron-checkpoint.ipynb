{
 "cells": [
  {
   "cell_type": "code",
   "execution_count": 4,
   "id": "f28df6b1",
   "metadata": {},
   "outputs": [],
   "source": [
    "import numpy as np"
   ]
  },
  {
   "cell_type": "code",
   "execution_count": 10,
   "id": "646a1b79",
   "metadata": {},
   "outputs": [],
   "source": [
    "class Perceptron:\n",
    "    \n",
    "    def __init__(self,eta=0.1,n_iter = 500,seed = 0):\n",
    "        '''\n",
    "        eta:学习lv\n",
    "        n_iter:迭代次数，查找真正合适的权重\n",
    "        seed:随机数种子\n",
    "        '''\n",
    "        self.eta = eta\n",
    "        self.n_iter = n_iter\n",
    "        self.seed = seed\n",
    "    def fit(self,X,Y):\n",
    "        '''\n",
    "        X:输入，shape = [n_samples,n_features]\n",
    "        Y:目标值，shape = [n_samples]\n",
    "            target values\n",
    "        \n",
    "        '''\n",
    "        rgen = np.random.RandomState(self.seed) # 随机数生成器\n",
    "        self.w_ = rgen.normal(loc = 0.0,scale = 0.01,size=1+X.shape[0])  # 权重w_[0]为偏置项\n",
    "        self.errors_ = []\n",
    "        for _ in range(self.n_iter):\n",
    "            errors = 0\n",
    "            for xi,target   in zip(X,Y):\n",
    "                update = self.eta * (target - self.predict(xi))   # delta w 更新权重\n",
    "                self.w_[1:] += update*xi   # 给权重重新赋值\n",
    "                self.w_[0] += update        # 这里的x0是1，并不是用户输入的而是我们自己设置的\n",
    "                \n",
    "                errors += int(update != 0.0)\n",
    "            self.errors_.append(errors)\n",
    "        return self\n",
    "    \n",
    "    def net_input(self,X):\n",
    "        # 计算预测值\n",
    "        return np.dot(X,self.w_[1:]) + self.w_[0]\n",
    "    \n",
    "    def perdict(self,X):\n",
    "        # 判断净输入是否大于0\n",
    "        return np.where(self.net_input(X)>=0.0,1,-1)  "
   ]
  },
  {
   "cell_type": "markdown",
   "id": "96faadf6",
   "metadata": {},
   "source": [
    "1. np库中的where函数的用法，类似有C语言中的三目运算符\n",
    "np.where(condition,x,y)\n",
    "condition 是一个判断条件，如果这个判断条件为真的话，就返回x，如果为假的话就返回y\n",
    "2. np库中的dot函数的用法——矩阵真正的乘法，计算向量的时候，只要维度一直，就可以将对应元素相乘，计算矩阵和向量的运算的时候，会自动将向量进行转置\n",
    "3. np库中计算向量的长度：np.linalg.norm\n",
    "\n",
    "向量的长度的定义：\n",
    "    每个维度上的起点都是0，终点就是向量中的元素，比如说，第一个维度上的起点为0，终点1，第二个维度上的起点为0，终点为2，第三个维度上起点为0终点为3，一次类推，最终由五个坐标确定了5维空间中的一个点，由原点指向该点，形成一个有向线段，这就是5维空间下的向量，那么这个向量的长度，自然而然的就是每一元素的平方相加之后在开根号 \n"
   ]
  },
  {
   "cell_type": "code",
   "execution_count": 9,
   "id": "7e2ea1ff",
   "metadata": {},
   "outputs": [
    {
     "data": {
      "text/plain": [
       "((400, 4), 400)"
      ]
     },
     "execution_count": 9,
     "metadata": {},
     "output_type": "execute_result"
    }
   ],
   "source": [
    "a.shape,a.shape[0]"
   ]
  },
  {
   "cell_type": "code",
   "execution_count": null,
   "id": "b7388176",
   "metadata": {},
   "outputs": [],
   "source": []
  }
 ],
 "metadata": {
  "kernelspec": {
   "display_name": "Python 3",
   "language": "python",
   "name": "python3"
  },
  "language_info": {
   "codemirror_mode": {
    "name": "ipython",
    "version": 3
   },
   "file_extension": ".py",
   "mimetype": "text/x-python",
   "name": "python",
   "nbconvert_exporter": "python",
   "pygments_lexer": "ipython3",
   "version": "3.8.5"
  }
 },
 "nbformat": 4,
 "nbformat_minor": 5
}
